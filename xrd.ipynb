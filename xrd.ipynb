{
 "cells": [
  {
   "cell_type": "code",
   "execution_count": 22,
   "metadata": {},
   "outputs": [
    {
     "name": "stdout",
     "output_type": "stream",
     "text": [
      "Mon matériau est le CsPrS2\n",
      "\n",
      "Le premier pic de diffraction se situe à un angle de  10.910845290936209 °, il correspond à une intensité absolue de  113850.92423716474  et une intensité relative de  4.313927480750329\n",
      "L'indice de Miller correspondant est :  [{'hkl': (1, 1, 1), 'multiplicity': 2}]\n",
      "\n",
      "Le deuxième pic de diffraction se situe à un angle de  21.922208799844167 °, il correspond à une intensité absolue de  732716.0696042462  et une intensité relative de  27.763358175895338\n",
      "L'indice de Miller correspondant est :  [{'hkl': (2, 2, 2), 'multiplicity': 2}]\n",
      "\n",
      "Le troisième pic de diffraction se situe à un angle de  24.227745944410554 °, il correspond à une intensité absolue de  193.58890556120883  et une intensité relative de  0.007335280809220389\n",
      "L'indice de Miller correspondant est :  [{'hkl': (1, 0, 0), 'multiplicity': 6}]\n",
      "\n",
      "Les angles sont donnés en degrés et pour définir l'intensité relative on fixe l'intensité du pic maximal (mis à part le pic central) à 100. Pour ce matériau l'intensité maximale est de :  2639147.847180835\n"
     ]
    }
   ],
   "source": [
    "from pymatgen.ext.matproj import MPRester\n",
    "from pymatgen.symmetry.analyzer import *\n",
    "from pymatgen.analysis.diffraction.xrd import XRDCalculator\n",
    "import matplotlib.pyplot as plt\n",
    "import matplotlib.image as mpimg\n",
    "from math import *\n",
    "import numpy as np\n",
    "with MPRester(\"7kc9QdoJwMtBxzFK\") as m:\n",
    "\n",
    "    print(\"Mon matériau est le CsPrS2\")\n",
    "    structure = m.get_structure_by_material_id(\"mp-9080\")\n",
    "    structure.to(filename=\"CsPrS2.cif\")\n",
    "    print()\n",
    "    xrd = XRDCalculator(1.54060)\n",
    "    intns = xrd.get_pattern(structure,scaled = False).intensity\n",
    "    ints = xrd.get_pattern(structure,scaled = True).intensity\n",
    "    hkls = xrd.get_pattern(structure,scaled = False).hkls\n",
    "    x = xrd.get_pattern(structure,scaled = False).x\n",
    "    print(\"Le premier pic de diffraction se situe à un angle de \",x[0],\"°, il correspond à une intensité absolue de \",intns[0],\" et une intensité relative de \",ints[0])\n",
    "    print(\"L'indice de Miller correspondant est : \",hkls[0])\n",
    "    print()\n",
    "    print(\"Le deuxième pic de diffraction se situe à un angle de \",x[1],\"°, il correspond à une intensité absolue de \",intns[1],\" et une intensité relative de \",ints[1])\n",
    "    print(\"L'indice de Miller correspondant est : \",hkls[1])\n",
    "    print()\n",
    "    print(\"Le troisième pic de diffraction se situe à un angle de \",x[2],\"°, il correspond à une intensité absolue de \",intns[2],\" et une intensité relative de \",ints[2])\n",
    "    print(\"L'indice de Miller correspondant est : \",hkls[2])\n",
    "    print()\n",
    "    print(\"Les angles sont donnés en degrés et pour définir l'intensité relative on fixe l'intensité du pic maximal (mis à part le pic central) à 100. Pour ce matériau l'intensité maximale est de : \",intns[4])"
   ]
  },
  {
   "cell_type": "code",
   "execution_count": null,
   "metadata": {},
   "outputs": [],
   "source": []
  },
  {
   "cell_type": "code",
   "execution_count": null,
   "metadata": {},
   "outputs": [],
   "source": []
  },
  {
   "cell_type": "code",
   "execution_count": null,
   "metadata": {},
   "outputs": [],
   "source": []
  }
 ],
 "metadata": {
  "kernelspec": {
   "display_name": "Python 3",
   "language": "python",
   "name": "python3"
  },
  "language_info": {
   "codemirror_mode": {
    "name": "ipython",
    "version": 3
   },
   "file_extension": ".py",
   "mimetype": "text/x-python",
   "name": "python",
   "nbconvert_exporter": "python",
   "pygments_lexer": "ipython3",
   "version": "3.6.8"
  }
 },
 "nbformat": 4,
 "nbformat_minor": 2
}
