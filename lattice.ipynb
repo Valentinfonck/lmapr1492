{
 "cells": [
  {
   "cell_type": "code",
   "execution_count": 42,
   "metadata": {},
   "outputs": [
    {
     "name": "stdout",
     "output_type": "stream",
     "text": [
      "a:  [ 4.14351009e+00 -3.17507000e-03  7.38966906e+00]\n",
      "b:  [1.92792904 3.66766623 7.38966906]\n",
      "c:  [-5.26055000e-03 -3.17507000e-03  8.47206332e+00]\n",
      "omega:  128.99659114252444\n",
      "a*:  [ 1.51463658e+00 -7.97469832e-01  6.41614532e-04]\n",
      "b*:  [-1.67394205e-04 -1.71174825e+00 -6.41614788e-04]\n",
      "c*:  [-1.321272   -0.79746984  0.7405165 ]\n",
      "trigonal\n",
      "rhombohedral\n",
      "-3m\n"
     ]
    }
   ],
   "source": [
    "from pymatgen.ext.matproj import MPRester\n",
    "from pymatgen.apps.borg.hive import VaspToComputedEntryDrone\n",
    "from pymatgen.apps.borg.queen import BorgQueen\n",
    "from pymatgen.entries.compatibility import MaterialsProjectCompatibility\n",
    "from pymatgen.analysis.phase_diagram import PhaseDiagram, PDPlotter\n",
    "from pymatgen.symmetry.analyzer import *\n",
    "from math import *\n",
    "import numpy as np\n",
    "with MPRester(\"7kc9QdoJwMtBxzFK\") as m:\n",
    "\n",
    "    structure = m.get_structure_by_material_id(\"mp-9080\")\n",
    "    latticeobj = structure.lattice\n",
    "    latticematrix = latticeobj.matrix\n",
    "    veca = latticematrix[0][:]\n",
    "    vecb = latticematrix[1][:]\n",
    "    vecc = latticematrix[2][:]\n",
    "    print(\"a: \", veca)\n",
    "    print(\"b: \", vecb)\n",
    "    print(\"c: \", vecc)\n",
    "    ome = np.dot(veca,np.cross(vecb,vecc))\n",
    "    print(\"omega: \", ome)\n",
    "    ##\n",
    "    vec_c_rec = (2*np.pi/ome)*np.cross(veca,vecb)\n",
    "    vec_b_rec = (2*np.pi/ome)*np.cross(veca,vecc)\n",
    "    vec_a_rec = (2*np.pi/ome)*np.cross(vecb,vecc)\n",
    "    print(\"a*: \",vec_a_rec)\n",
    "    print(\"b*: \",vec_b_rec)\n",
    "    print(\"c*: \",vec_c_rec)\n",
    "    ##\n",
    "    spcan = SpacegroupAnalyzer(structure)\n",
    "    cs = spcan.get_crystal_system()\n",
    "    print(cs)\n",
    "    ##\n",
    "    lt = spcan.get_lattice_type()\n",
    "    print(lt)\n",
    "    ##\n",
    "    gp = spcan.get_point_group_symbol()\n",
    "    print(gp)"
   ]
  },
  {
   "cell_type": "code",
   "execution_count": null,
   "metadata": {},
   "outputs": [],
   "source": []
  }
 ],
 "metadata": {
  "kernelspec": {
   "display_name": "Python 3",
   "language": "python",
   "name": "python3"
  },
  "language_info": {
   "codemirror_mode": {
    "name": "ipython",
    "version": 3
   },
   "file_extension": ".py",
   "mimetype": "text/x-python",
   "name": "python",
   "nbconvert_exporter": "python",
   "pygments_lexer": "ipython3",
   "version": "3.6.8"
  }
 },
 "nbformat": 4,
 "nbformat_minor": 2
}
