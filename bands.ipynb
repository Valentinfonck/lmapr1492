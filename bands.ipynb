{
 "cells": [
  {
   "cell_type": "code",
   "execution_count": 14,
   "metadata": {},
   "outputs": [
    {
     "name": "stdout",
     "output_type": "stream",
     "text": [
      "Mon matériau est le CsPrS2\n",
      "\n",
      "{'direct': False, 'energy': 2.1610000000000005, 'transition': '\\\\Gamma-F'}\n",
      "2.1610000000000005\n",
      "{<Spin.up: 1>: array([[-33.1931, -33.1929, -33.1926, ..., -33.1762, -33.1762, -33.1762],\n",
      "       [-18.9905, -18.9898, -18.9876, ..., -18.8943, -18.8945, -18.8946],\n",
      "       [-15.4034, -15.4026, -15.4002, ..., -15.4816, -15.4813, -15.4808],\n",
      "       ...,\n",
      "       [ 12.137 ,  12.1066,  12.0342, ...,  12.5824,  12.5921,  12.6351],\n",
      "       [ 13.079 ,  13.1208,  13.2151, ...,  13.3968,  13.4431,  13.3952],\n",
      "       [ 13.8247,  13.8564,  13.9055, ...,  13.6323,  13.7507,  13.9772]])}\n",
      "{'band_index': defaultdict(<class 'list'>, {<Spin.up: 1>: [16]}), 'kpoint_index': [91, 92], 'kpoint': <pymatgen.electronic_structure.bandstructure.Kpoint object at 0x7fadbda8ee80>, 'energy': 3.9761, 'projections': {}}\n",
      "{'band_index': defaultdict(<class 'list'>, {<Spin.up: 1>: [14, 15]}), 'kpoint_index': [0, 59, 60], 'kpoint': <pymatgen.electronic_structure.bandstructure.Kpoint object at 0x7fadbdc615c0>, 'energy': 1.8151, 'projections': {}}\n",
      "La bande interdite représente un gap d'énergie de  2.1610000000000005  eV. Ce gap est indirect ce qui signifie que les deux valeurs d'énergie associées ne peuvent être associées au même vecteur d'onde.\n",
      "(Si on avait uniquement considéré le gap direct il aurait eu une valeur de  2.4828  eV.)\n"
     ]
    }
   ],
   "source": [
    "from pymatgen.ext.matproj import MPRester\n",
    "from pymatgen.symmetry.analyzer import *\n",
    "from pymatgen.analysis.diffraction.xrd import XRDCalculator\n",
    "import matplotlib.pyplot as plt\n",
    "import matplotlib.image as mpimg\n",
    "from math import *\n",
    "import numpy as np\n",
    "with MPRester(\"7kc9QdoJwMtBxzFK\") as m:\n",
    "    print(\"Mon matériau est le CsPrS2\")\n",
    "    structure = m.get_structure_by_material_id(\"mp-9080\")\n",
    "    structure.to(filename=\"CsPrS2.cif\")\n",
    "    print()\n",
    "    \n",
    "    \n",
    "    bs = m.get_bandstructure_by_material_id(\"mp-9080\")\n",
    "    bg = bs.get_band_gap()\n",
    "    bdg = bs.get_direct_band_gap()\n",
    "    print(bg)\n",
    "    print(bg[\"energy\"])\n",
    "    print(bs.bands)\n",
    "    cbm = bs.get_cbm()\n",
    "    print(cbm)\n",
    "    vbm = bs.get_vbm()\n",
    "    print(vbm)\n",
    "    print(\"La bande interdite représente un gap d'énergie de \",bg[\"energy\"],\" eV. Ce gap est indirect ce qui signifie que les deux valeurs d'énergie associées ne peuvent être associées au même vecteur d'onde.\")\n",
    "    print(\"(Si on avait uniquement considéré le gap direct il aurait eu une valeur de \",bdg,\" eV.)\")"
   ]
  },
  {
   "cell_type": "code",
   "execution_count": null,
   "metadata": {},
   "outputs": [],
   "source": []
  },
  {
   "cell_type": "code",
   "execution_count": null,
   "metadata": {},
   "outputs": [],
   "source": []
  },
  {
   "cell_type": "code",
   "execution_count": null,
   "metadata": {},
   "outputs": [],
   "source": []
  }
 ],
 "metadata": {
  "kernelspec": {
   "display_name": "Python 3",
   "language": "python",
   "name": "python3"
  },
  "language_info": {
   "codemirror_mode": {
    "name": "ipython",
    "version": 3
   },
   "file_extension": ".py",
   "mimetype": "text/x-python",
   "name": "python",
   "nbconvert_exporter": "python",
   "pygments_lexer": "ipython3",
   "version": "3.6.8"
  }
 },
 "nbformat": 4,
 "nbformat_minor": 2
}
